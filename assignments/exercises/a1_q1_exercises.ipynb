{
 "cells": [
  {
   "cell_type": "code",
   "execution_count": 1,
   "metadata": {
    "collapsed": true
   },
   "outputs": [],
   "source": [
    "\"\"\"\n",
    "Simple TensorFlow exercises\n",
    "You should thoroughly test your code\n",
    "\"\"\"\n",
    "\n",
    "import tensorflow as tf\n",
    "sess = tf.InteractiveSession()"
   ]
  },
  {
   "cell_type": "code",
   "execution_count": 2,
   "metadata": {},
   "outputs": [
    {
     "name": "stdout",
     "output_type": "stream",
     "text": [
      "Correct! (x: 0.687358, y: 0.761784, out: -0.074426, x+y: 1.449143, x-y: -0.074426)\n"
     ]
    }
   ],
   "source": [
    "###############################################################################\n",
    "# 1a: Create two random 0-d tensors x and y of any distribution.\n",
    "# Create a TensorFlow object that returns x + y if x > y, and x - y otherwise.\n",
    "# Hint: look up tf.cond()\n",
    "# I do the first problem for you\n",
    "###############################################################################\n",
    "\n",
    "x = tf.random_uniform([])  # Empty array as shape creates a scalar.\n",
    "y = tf.random_uniform([])\n",
    "out = tf.cond(tf.less_equal(x, y), lambda: tf.sub(x, y), lambda: tf.add(x, y))\n",
    "\n",
    "# Evaluation\n",
    "x_val, y_val, out_val, x_add_y_val, x_sub_y_val = sess.run([x, y, out, x+y, x-y])\n",
    "result = \"Correct!\" if (x_val > y_val and out_val == x_add_y_val) or\\\n",
    "                       (x_val <= y_val and out_val == x_sub_y_val) else \"Failed!\"\n",
    "print(result, \"(x: %f, y: %f, out: %f, x+y: %f, x-y: %f)\" % (x_val, y_val, out_val, x_add_y_val, x_sub_y_val))"
   ]
  },
  {
   "cell_type": "code",
   "execution_count": 3,
   "metadata": {},
   "outputs": [
    {
     "name": "stdout",
     "output_type": "stream",
     "text": [
      "Correct! (x: -0.861441, y: -0.796021, out: -1.657462, x+y: -1.657462, x-y: -0.065420)\n"
     ]
    }
   ],
   "source": [
    "###############################################################################\n",
    "# 1b: Create two 0-d tensors x and y randomly selected from -1 and 1.\n",
    "# Return x + y if x < y, x - y if x > y, 0 otherwise.\n",
    "# Hint: Look up tf.case().\n",
    "###############################################################################\n",
    "\n",
    "x = tf.random_uniform([], minval=-1, maxval=1)\n",
    "y = tf.random_uniform([], minval=-1, maxval=1)\n",
    "out = tf.case({tf.less(x, y): lambda: x + y,\n",
    "               tf.greater(x, y): lambda: x - y},\n",
    "              default=lambda: tf.constant(0.0), exclusive=True)\n",
    "\n",
    "# Evaluation\n",
    "x_val, y_val, out_val, x_add_y_val, x_sub_y_val = sess.run([x, y, out, x+y, x-y])\n",
    "result = \"Correct!\" if (x_val < y_val and out_val == x_add_y_val) or\\\n",
    "                       (x_val > y_val and out_val == x_sub_y_val) or\\\n",
    "                       (x_val == y_val and out_val == 0.0) else \"Failed!\"\n",
    "print(result, \"(x: %f, y: %f, out: %f, x+y: %f, x-y: %f)\" % (x_val, y_val, out_val, x_add_y_val, x_sub_y_val))"
   ]
  },
  {
   "cell_type": "code",
   "execution_count": 4,
   "metadata": {},
   "outputs": [
    {
     "name": "stdout",
     "output_type": "stream",
     "text": [
      "x (shape): Tensor(\"Shape:0\", shape=(2,), dtype=int32) \n",
      "y (shape): Tensor(\"Shape_1:0\", shape=(2,), dtype=int32)\n"
     ]
    }
   ],
   "source": [
    "###############################################################################\n",
    "# 1c: Create the tensor x of the value [[0, -2, -1], [0, 1, 2]]\n",
    "# and y as a tensor of zeros with the same shape as x.\n",
    "# Return a boolean tensor that yields Trues if x equals y element-wise.\n",
    "# Hint: Look up tf.equal().\n",
    "###############################################################################\n",
    "\n",
    "x = tf.constant([[0, -2, -1], [0, 1, 2]])\n",
    "y = tf.zeros_like(x)\n",
    "out = tf.equal(x, y)\n",
    "\n",
    "# Evaluation\n",
    "x_val, y_val, out_val= sess.run([x, y, out])\n",
    "print(\"x (shape):\", tf.shape(x_val), \"\\ny (shape):\", tf.shape(y_val))"
   ]
  },
  {
   "cell_type": "code",
   "execution_count": 5,
   "metadata": {},
   "outputs": [
    {
     "name": "stdout",
     "output_type": "stream",
     "text": [
      "indices: [[ 2]\n",
      " [ 4]\n",
      " [ 6]\n",
      " [ 8]\n",
      " [ 9]\n",
      " [11]\n",
      " [14]\n",
      " [16]\n",
      " [18]] \n",
      "elements: [[ 31.19073486]\n",
      " [ 30.97266006]\n",
      " [ 38.08450317]\n",
      " [ 34.94445419]\n",
      " [ 34.45999146]\n",
      " [ 36.01657104]\n",
      " [ 30.20379066]\n",
      " [ 33.71149445]\n",
      " [ 36.05556488]]\n"
     ]
    }
   ],
   "source": [
    "###############################################################################\n",
    "# 1d: Create the tensor x of value \n",
    "# [29.05088806,  27.61298943,  31.19073486,  29.35532951,\n",
    "#  30.97266006,  26.67541885,  38.08450317,  20.74983215,\n",
    "#  34.94445419,  34.45999146,  29.06485367,  36.01657104,\n",
    "#  27.88236427,  20.56035233,  30.20379066,  29.51215172,\n",
    "#  33.71149445,  28.59134293,  36.05556488,  28.66994858].\n",
    "# Get the indices of elements in x whose values are greater than 30.\n",
    "# Hint: Use tf.where().\n",
    "# Then extract elements whose values are greater than 30.\n",
    "# Hint: Use tf.gather().\n",
    "###############################################################################\n",
    "\n",
    "x = tf.constant([29.05088806,  27.61298943,  31.19073486,  29.35532951,\n",
    "                 30.97266006,  26.67541885,  38.08450317,  20.74983215,\n",
    "                 34.94445419,  34.45999146,  29.06485367,  36.01657104,\n",
    "                 27.88236427,  20.56035233,  30.20379066,  29.51215172,\n",
    "                 33.71149445,  28.59134293,  36.05556488,  28.66994858])\n",
    "indices = tf.where(tf.greater(x, 30))\n",
    "elements = tf.gather(x, indices=indices)\n",
    "\n",
    "# Evaluation\n",
    "indices_val, elements_val = sess.run([indices, elements])\n",
    "print(\"indices:\", indices_val, \"\\nelements:\", elements_val)"
   ]
  },
  {
   "cell_type": "code",
   "execution_count": 6,
   "metadata": {},
   "outputs": [
    {
     "name": "stdout",
     "output_type": "stream",
     "text": [
      "out: [array([[1, 0, 0, 0, 0, 0],\n",
      "       [0, 2, 0, 0, 0, 0],\n",
      "       [0, 0, 3, 0, 0, 0],\n",
      "       [0, 0, 0, 4, 0, 0],\n",
      "       [0, 0, 0, 0, 5, 0],\n",
      "       [0, 0, 0, 0, 0, 6]], dtype=int32)]\n"
     ]
    }
   ],
   "source": [
    "###############################################################################\n",
    "# 1e: Create a diagnoal 2-d tensor of size 6 x 6 with the diagonal values of 1,\n",
    "# 2, ..., 6\n",
    "# Hint: Use tf.range() and tf.diag().\n",
    "###############################################################################\n",
    "\n",
    "values = tf.range(1, limit=7)\n",
    "out = tf.diag(values)\n",
    "\n",
    "# Evaluation\n",
    "out_val = sess.run([out])\n",
    "print(\"out:\", out_val)"
   ]
  },
  {
   "cell_type": "code",
   "execution_count": 7,
   "metadata": {},
   "outputs": [
    {
     "name": "stdout",
     "output_type": "stream",
     "text": [
      "matrix: [[  8.95740128   8.53671551   9.5324831    9.17240143  10.29419231\n",
      "    9.70562172  10.31490326  10.3229332   11.59375954   9.76472282]\n",
      " [ 10.51930904   9.70598698   9.21177197   8.8184042   10.61162758\n",
      "   11.62187958  10.82653713  10.9778471   10.18073368   8.91016006]\n",
      " [  9.82863331   9.27831268  11.28458595   9.74205589   9.12952709\n",
      "    9.95112991   9.60295105   9.70737267  10.10803223   9.17429447]\n",
      " [ 12.9160881    9.39477158  10.43082237   9.79567242   8.2257576\n",
      "   11.54269314   8.98885822  10.22666931  10.75450802   9.15993404]\n",
      " [ 10.75531769  11.15305424   8.60897732  10.30769253   9.89709377\n",
      "    9.18387318  10.29519463  11.46409416   9.63109875  11.37504864]\n",
      " [  8.62255764   9.15497303  10.05335236   9.25065613  10.82600784\n",
      "   10.4751873    8.72447777   8.90216732   9.88316154   8.81074524]\n",
      " [ 12.90655422   9.57306194  10.68577766   9.61569691   9.89991188\n",
      "    9.23572254  10.43512535  11.10117817   8.3586483    9.11233997]\n",
      " [ 10.15642166   9.11196518   9.80648422   9.15126514   8.03379154\n",
      "   10.44703293  11.07316494  10.41476154  10.08890915  11.04788589]\n",
      " [  8.24678421   9.73619366  10.6455307    9.84623814   9.6159687\n",
      "   10.07653999  10.73825455   8.92907047   9.37299442   8.30079174]\n",
      " [  9.96772194   9.38543415  10.7328434    8.67453289   9.5051899\n",
      "   11.05312157  11.24317741   9.33834362  11.05975151  11.92767525]] \n",
      "delta: 43800.6\n"
     ]
    }
   ],
   "source": [
    "###############################################################################\n",
    "# 1f: Create a random 2-d tensor of size 10 x 10 from any distribution.\n",
    "# Calculate its determinant.\n",
    "# Hint: Look at tf.matrix_determinant().\n",
    "###############################################################################\n",
    "\n",
    "mat = tf.random_normal([10, 10], mean=10.0, stddev=1.0)\n",
    "delta = tf.matrix_determinant(mat)\n",
    "\n",
    "# Evaluation\n",
    "mat, delta_val = sess.run([mat, delta])\n",
    "print(\"matrix:\", mat, \"\\ndelta:\", delta_val)"
   ]
  },
  {
   "cell_type": "code",
   "execution_count": 8,
   "metadata": {},
   "outputs": [
    {
     "name": "stdout",
     "output_type": "stream",
     "text": [
      "unique: [Unique(y=array([ 5,  2,  3, 10,  6,  4,  1,  0,  9], dtype=int32), idx=array([0, 1, 2, 0, 3, 4, 1, 2, 5, 1, 6, 6, 7, 8], dtype=int32))]\n"
     ]
    }
   ],
   "source": [
    "###############################################################################\n",
    "# 1g: Create tensor x with value [5, 2, 3, 5, 10, 6, 2, 3, 4, 2, 1, 1, 0, 9].\n",
    "# Return the unique elements in x\n",
    "# Hint: use tf.unique(). Keep in mind that tf.unique() returns a tuple.\n",
    "###############################################################################\n",
    "\n",
    "x = tf.constant([5, 2, 3, 5, 10, 6, 2, 3, 4, 2, 1, 1, 0, 9])\n",
    "uni = tf.unique(x)\n",
    "\n",
    "# Evaluation\n",
    "uni_val = sess.run([uni])\n",
    "print(\"unique:\", uni_val)"
   ]
  },
  {
   "cell_type": "code",
   "execution_count": 9,
   "metadata": {
    "collapsed": true
   },
   "outputs": [],
   "source": [
    "###############################################################################\n",
    "# 1h: Create two tensors x and y of shape 300 from any normal distribution,\n",
    "# as long as they are from the same distribution.\n",
    "# Use tf.less() and tf.select() to return:\n",
    "# - The mean squared error of (x - y) if the average of all elements in (x - y)\n",
    "#   is negative, or\n",
    "# - The sum of absolute value of all elements in the tensor (x - y) otherwise.\n",
    "# Hint: see the Huber loss function in the lecture slides 3.\n",
    "###############################################################################\n",
    "\n",
    "x = tf.random_normal([300])\n",
    "y = tf.random_normal([300])\n",
    "avg = tf.reduce_mean(x - y)\n",
    "cond = tf.less(avg, 0)\n",
    "mse = tf.reduce_mean(tf.square(x - y))\n",
    "abs_sum = tf.reduce_sum(tf.abs(x - y))\n",
    "out = tf.select(cond, mse, abs_sum)"
   ]
  }
 ],
 "metadata": {
  "kernelspec": {
   "display_name": "Python 3",
   "language": "python",
   "name": "python3"
  },
  "language_info": {
   "codemirror_mode": {
    "name": "ipython",
    "version": 3
   },
   "file_extension": ".py",
   "mimetype": "text/x-python",
   "name": "python",
   "nbconvert_exporter": "python",
   "pygments_lexer": "ipython3",
   "version": "3.5.2"
  }
 },
 "nbformat": 4,
 "nbformat_minor": 2
}
